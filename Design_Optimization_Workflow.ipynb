{
 "cells": [
  {
   "cell_type": "markdown",
   "id": "8ac544ef",
   "metadata": {},
   "source": [
    "# Forward Design Optimization - Workflow\n",
    "\n",
    "**Author**: Benjamin Urben<br>\n",
    "**Email**: burben@student.ethz.ch / benjamin.urben@hotmail.ch<br>\n",
    "**Context**: Master Thesis on \"Use of Conditional Variational Autoencoder (cVAE) in the design of connections\"<br>\n",
    "**Institution**: ETH Zürich, Institute of Structural Engineering (IBK)\n",
    "\n",
    "**Description**:\n",
    "\n",
    "Employ heuristic and stochastic optimization methods, which incorporate the Deep Neural Network as an evaluation tool to identify optimal design parameters. The objective (cost function) minimizes the distance from the Moment-Shear interaction diagram for a given design to a set of pre-defined Moment and Shear load combinations.\n",
    "\n",
    "**Dependencies**: \n",
    "- `DNN.py`\n",
    "- `Datareader.py`\n",
    "- `Settings.py`\n",
    "- `Plot_Functions.py`\n",
    "\n",
    "- `Saved Models\\DNN_trained_model\\DNN_trained_model.pth`"
   ]
  },
  {
   "cell_type": "markdown",
   "id": "3f75865d",
   "metadata": {},
   "source": [
    "## Import"
   ]
  },
  {
   "cell_type": "code",
   "execution_count": 1,
   "id": "6f14bcb6",
   "metadata": {},
   "outputs": [
    {
     "name": "stdout",
     "output_type": "stream",
     "text": [
      "Root Directory set to:  c:\\Users\\benja\\OneDrive\\Desktop\\Masterarbeit\\Code\\10_Neural_Networks\n"
     ]
    }
   ],
   "source": [
    "import torch\n",
    "import torch.nn.functional as F\n",
    "import torch.nn as nn\n",
    "import torch.optim as optim\n",
    "from torch.utils.data import DataLoader, TensorDataset\n",
    "from sklearn.model_selection import train_test_split\n",
    "from sklearn.preprocessing import StandardScaler\n",
    "from sklearn.metrics import silhouette_score\n",
    "from scipy.interpolate import interp1d\n",
    "from scipy.optimize import minimize\n",
    "import numpy as np\n",
    "import pandas as pd\n",
    "import time\n",
    "import matplotlib.pyplot as plt\n",
    "import matplotlib.colors as mcolors\n",
    "import random\n",
    "import copy\n",
    "import os\n",
    "import pickle\n",
    "\n",
    "from DataReader import DataReader\n",
    "from Settings import Directory, Plotting_Parameters\n",
    "from DNN import DNN\n",
    "from Plot_Functions import plot_MV_interaction\n",
    "\n",
    "import warnings\n",
    "warnings.filterwarnings('ignore')"
   ]
  },
  {
   "cell_type": "code",
   "execution_count": 2,
   "id": "84738dc1",
   "metadata": {},
   "outputs": [
    {
     "name": "stdout",
     "output_type": "stream",
     "text": [
      "Root Directory set to:  c:\\Users\\benja\\OneDrive\\Desktop\\Masterarbeit\\Code\\10_Neural_Networks\n"
     ]
    }
   ],
   "source": [
    "plot_params = Plotting_Parameters()\n",
    "directory = Directory()"
   ]
  },
  {
   "cell_type": "markdown",
   "id": "051127fb",
   "metadata": {},
   "source": [
    "## Load Data"
   ]
  },
  {
   "cell_type": "code",
   "execution_count": 3,
   "id": "40f9c358",
   "metadata": {},
   "outputs": [
    {
     "name": "stdout",
     "output_type": "stream",
     "text": [
      "Root Directory set to:  c:\\Users\\benja\\OneDrive\\Desktop\\Masterarbeit\\Code\\10_Neural_Networks\n",
      "extended_profiles_iter_3.csv\n",
      "extenden_profiles_iter_1.csv\n",
      "extenden_profiles_iter_2.csv\n",
      "Knee_Connection_Output_red.csv\n",
      "Knee_parallel_I_Off0_Output_red_Q1.xlsx\n",
      "Knee_parallel_I_Off0_Output_red_Q4.xlsx\n",
      "Knee_parallel_I_Output_Q1.xlsx\n",
      "Knee_parallel_I_Output_red_Q4.xlsx\n",
      "Knee_perpendicular_n.stiff_Off0_Output_red_Q1.xlsx\n",
      "Knee_perpendicular_n.stiff_Off0_Output_red_Q4.xlsx\n",
      "Knee_perpendicular_n.stiff_Output_red_Q1.xlsx\n",
      "Knee_perpendicular_n.stiff_Output_red_Q4.xlsx\n",
      "Knee_widener_I_Output_Off0_red_Q1.xlsx\n",
      "Knee_widener_I_Output_red_Q1.xlsx\n",
      "Knee_Connection_Output_red.csv: (714385, 53)\n"
     ]
    }
   ],
   "source": [
    "datareader = DataReader()\n",
    "df_full = datareader.load('Knee_Connection_Output_red.csv')"
   ]
  },
  {
   "cell_type": "markdown",
   "id": "34aaafc8",
   "metadata": {},
   "source": [
    "## Load Forward Model"
   ]
  },
  {
   "cell_type": "code",
   "execution_count": 4,
   "id": "25fb69f1",
   "metadata": {},
   "outputs": [
    {
     "name": "stdout",
     "output_type": "stream",
     "text": [
      "batch_size 256\n",
      "epochs 3000\n",
      "learning_rate 0.001\n",
      "test_size 0.1\n",
      "val_size 0.1\n",
      "print_logs True\n",
      "dropout_prob 0.0\n",
      "num_layers 3\n",
      "neurons_per_layer [128, 64, 32, 16, 8]\n",
      "use_batch_norm True\n",
      "seed 42\n",
      "description Use larger network architecture and more features as training data. Also use Batch normalization\n"
     ]
    }
   ],
   "source": [
    "model_name = 'DNN_Model_Full_V2'\n",
    "MODEL_FORWARD_SAVE_FILE = rf\"Saved Models\\{model_name}\\{model_name}.pth\"\n",
    "\n",
    "model_forward = DNN()\n",
    "model_forward = torch.load(MODEL_FORWARD_SAVE_FILE)\n",
    "\n",
    "for key, value in model_forward.config.items():\n",
    "    print(key, value)\n",
    "\n",
    "features = model_forward.features"
   ]
  },
  {
   "cell_type": "markdown",
   "id": "7a3244a2",
   "metadata": {},
   "source": [
    "## Optimization"
   ]
  },
  {
   "cell_type": "markdown",
   "id": "5c2bdcb8",
   "metadata": {},
   "source": [
    "### Relevant Functions"
   ]
  },
  {
   "cell_type": "markdown",
   "id": "7dd2234e",
   "metadata": {},
   "source": [
    "First, we need a function to calculate the distance between a given load (Ed) and the interaction curve (Rd). The function should consider the shortest distance from the load to the interaction curve, which is discretized as n $M_{Rd}$ and $V_{Rd}$ coordinates. The distance should therefore be the orthogonal distance between the the closest line segment of the interaction curve and the load. This indicates results in the **error** of the current design."
   ]
  },
  {
   "cell_type": "code",
   "execution_count": 5,
   "id": "d9efbfa6",
   "metadata": {},
   "outputs": [],
   "source": [
    "def calculate_error(curve, points):\n",
    "    diff = np.diff(curve, axis=0)\n",
    "    lengths = np.sqrt((diff ** 2).sum(axis=1))\n",
    "    unit_vectors = diff / lengths[:, np.newaxis]\n",
    "\n",
    "    points = np.atleast_2d(points)\n",
    "    start_points = curve[:-1]\n",
    "\n",
    "    start_to_points = points[:, np.newaxis, :] - start_points\n",
    "    projections = np.einsum('ijk,jk->ij', start_to_points, unit_vectors)\n",
    "    projections = np.clip(projections, 0, lengths)\n",
    "\n",
    "    closest_points = start_points + unit_vectors * projections[..., np.newaxis]\n",
    "    distances = np.sqrt(((closest_points - points[:, np.newaxis, :]) ** 2).sum(axis=2))\n",
    "    \n",
    "    min_distances = distances.min(axis=1)\n",
    "    closest_indices = distances.argmin(axis=1)\n",
    "\n",
    "    return min_distances, closest_indices"
   ]
  },
  {
   "cell_type": "markdown",
   "id": "81abfbba",
   "metadata": {},
   "source": [
    "Loads, which are inside of the interaction curve (Rd), might want to be penalized less, since a design with $R_d > E_d$ could also be accepted. To identify if points are inside or outside of an interaction curve, following functions are implemented:"
   ]
  },
  {
   "cell_type": "code",
   "execution_count": 6,
   "id": "d72c4195",
   "metadata": {},
   "outputs": [],
   "source": [
    "def check_for_violation(curve, points):\n",
    "    min_distances, closest_indices = calculate_error(curve, points)\n",
    "    \n",
    "    # For each point, get the closest point on the curve\n",
    "    points = np.atleast_2d(points)\n",
    "    closest_points_on_curve = get_closest_points_on_curve(curve, points, closest_indices)\n",
    "    \n",
    "    # For a convex curve in the first quadrant, we can determine inside/outside by:\n",
    "    # 1. Creating vectors from origin to the point and to its closest curve point\n",
    "    origin = np.array([0, 0])\n",
    "    vectors_to_points = points - origin\n",
    "    vectors_to_curve = closest_points_on_curve - origin\n",
    "    \n",
    "    # 2. Calculate the magnitude of these vectors\n",
    "    point_magnitudes = np.sqrt((vectors_to_points**2).sum(axis=1))\n",
    "    curve_magnitudes = np.sqrt((vectors_to_curve**2).sum(axis=1))\n",
    "\n",
    "    # 3. If the point's magnitude is greater than its projection's magnitude, it's inside\n",
    "    inside_outside = point_magnitudes > curve_magnitudes\n",
    "    \n",
    "    return inside_outside\n",
    "\n",
    "def get_closest_points_on_curve(curve, points, closest_indices):\n",
    "    diff = np.diff(curve, axis=0)\n",
    "    lengths = np.sqrt((diff ** 2).sum(axis=1))\n",
    "    unit_vectors = diff / lengths[:, np.newaxis]\n",
    "    \n",
    "    start_points = curve[:-1]\n",
    "    \n",
    "    # For each point, get its corresponding closest segment\n",
    "    closest_segments = closest_indices\n",
    "    \n",
    "    closest_points = np.zeros_like(points)\n",
    "    \n",
    "    for i, (point, segment_idx) in enumerate(zip(points, closest_segments)):\n",
    "        segment_start = start_points[segment_idx]\n",
    "        unit_vec = unit_vectors[segment_idx]\n",
    "        \n",
    "        start_to_point = point - segment_start\n",
    "        \n",
    "        # Project this vector onto the segment\n",
    "        projection = np.dot(start_to_point, unit_vec)\n",
    "        projection = np.clip(projection, 0, lengths[segment_idx])\n",
    "        \n",
    "        # Calculate the closest point on the segment\n",
    "        closest_point = segment_start + unit_vec * projection\n",
    "        closest_points[i] = closest_point\n",
    "        \n",
    "    return closest_points"
   ]
  },
  {
   "cell_type": "markdown",
   "id": "d98f372c",
   "metadata": {},
   "source": [
    "### Define Base Profile"
   ]
  },
  {
   "cell_type": "markdown",
   "id": "ddeb1daf",
   "metadata": {},
   "source": [
    "Select random sample, which should give the initial values for the parameters, which should be considered fixed in the optimization."
   ]
  },
  {
   "cell_type": "code",
   "execution_count": 42,
   "id": "da3daf66",
   "metadata": {},
   "outputs": [],
   "source": [
    "base_profile = df_full.iloc[714381:714382]"
   ]
  },
  {
   "cell_type": "code",
   "execution_count": 41,
   "id": "6c2febb7",
   "metadata": {},
   "outputs": [
    {
     "data": {
      "text/plain": [
       "0           7.641830\n",
       "1           7.511201\n",
       "2           6.858053\n",
       "3           6.618565\n",
       "4           6.286548\n",
       "             ...    \n",
       "714380      0.000000\n",
       "714381    830.346199\n",
       "714382    505.538281\n",
       "714383    406.537160\n",
       "714384    147.448438\n",
       "Name: M_Rd, Length: 714385, dtype: float64"
      ]
     },
     "execution_count": 41,
     "metadata": {},
     "output_type": "execute_result"
    }
   ],
   "source": [
    "df_full['M_Rd']"
   ]
  },
  {
   "cell_type": "markdown",
   "id": "bb77e3c3",
   "metadata": {},
   "source": [
    "Get Interaction curve using the forward model."
   ]
  },
  {
   "cell_type": "code",
   "execution_count": 43,
   "id": "a194c713",
   "metadata": {},
   "outputs": [],
   "source": [
    "n_predictions = 20\n",
    "M_Rd_pred, V_Rd_pred, targets_predicted = model_forward.get_MV_interaction_prediction(base_profile,n_predictions=n_predictions)\n",
    "interaction_curve = np.array([M_Rd_pred, V_Rd_pred]).T"
   ]
  },
  {
   "cell_type": "markdown",
   "id": "bc76f57d",
   "metadata": {},
   "source": [
    "Define Design Loads based on the initial interaction curve."
   ]
  },
  {
   "cell_type": "code",
   "execution_count": 44,
   "id": "fa5a6cfa",
   "metadata": {},
   "outputs": [],
   "source": [
    "M_Ed = np.array([interaction_curve[2][0]*1.1, interaction_curve[10][0]*1.3, interaction_curve[-2][0]*1.1])\n",
    "V_Ed = np.array([interaction_curve[2][1]*0.9, interaction_curve[10][1]*1.1, interaction_curve[-2][1]*1.1])\n",
    "\n",
    "design_loads = np.array(list(zip(M_Ed, V_Ed)))"
   ]
  },
  {
   "cell_type": "markdown",
   "id": "23e46322",
   "metadata": {},
   "source": [
    "Check if some design loads exceed the resistance capacity."
   ]
  },
  {
   "cell_type": "code",
   "execution_count": 45,
   "id": "caa06f58",
   "metadata": {},
   "outputs": [],
   "source": [
    "violations = check_for_violation(interaction_curve, design_loads)"
   ]
  },
  {
   "cell_type": "markdown",
   "id": "b03c6a26",
   "metadata": {},
   "source": [
    "Calculate the error (distance from design loads to interaction curve)."
   ]
  },
  {
   "cell_type": "code",
   "execution_count": 46,
   "id": "b562386c",
   "metadata": {},
   "outputs": [],
   "source": [
    "errors, closest_points = calculate_error(\n",
    "    interaction_curve,\n",
    "    design_loads\n",
    ")"
   ]
  },
  {
   "cell_type": "code",
   "execution_count": 47,
   "id": "4f36358f",
   "metadata": {},
   "outputs": [
    {
     "data": {
      "image/png": "[encoded data removed]",
      "text/plain": [
       "<Figure size 500x500 with 1 Axes>"
      ]
     },
     "metadata": {},
     "output_type": "display_data"
    }
   ],
   "source": [
    "fig, ax = plt.subplots(figsize=(5, 5))\n",
    "\n",
    "plt.plot(interaction_curve[:, 0],\n",
    "        interaction_curve[:, 1],\n",
    "        marker='o',\n",
    "        markeredgecolor=plot_params.morecolors[0],\n",
    "        markerfacecolor=plot_params.morecolors[1],\n",
    "        linestyle='--',                    \n",
    "        label=\"Predicted MV Interaction Resistance\",\n",
    "        alpha=0.5,\n",
    "        zorder=0)\n",
    "    \n",
    "for i, load in enumerate(design_loads):\n",
    "    colors = [plot_params.morecolors[5],plot_params.morecolors[4]] if not violations[i] else [plot_params.morecolors[7],plot_params.morecolors[6]]\n",
    "    plt.scatter(load[0],\n",
    "                load[1],\n",
    "                s=50,\n",
    "                facecolors=colors[0],\n",
    "                edgecolors=colors[1],\n",
    "                label=\"Design Load\" if i == 0 else \"\",\n",
    "                zorder=3)\n",
    "    plt.text(load[0],\n",
    "             load[1], \n",
    "             f\"Error: {errors[i]:.2f}\", \n",
    "             fontsize=8, ha='right', va='bottom', color='black')\n",
    "    plt.scatter(interaction_curve[closest_points[i], 0],\n",
    "                interaction_curve[closest_points[i], 1],\n",
    "                s=50,\n",
    "                facecolors=plot_params.morecolors[3],\n",
    "                edgecolors=plot_params.morecolors[2], \n",
    "                zorder=3)\n",
    "\n",
    "plt.legend()\n",
    "plt.xlim(0,None)\n",
    "plt.ylim(0,None)\n",
    "plt.xlabel(rf\"{plot_params.feature_labels['M_Rd']}\")\n",
    "plt.ylabel(rf\"{plot_params.feature_labels['V_Rd']}\")\n",
    "plt.grid(True, linestyle='--', alpha=0.5)\n",
    "plt.show()"
   ]
  },
  {
   "cell_type": "markdown",
   "id": "a3a9fbc7",
   "metadata": {},
   "source": [
    "Define loss function, which should be minimized in optmization. Use `penalize_violations` to adjust how much more loads exceeding the resistance are penalized. If it is set to 1.0, the optimization will just find the best fitting curve to the design loads, no matter if they are exceeding the resistance or not. "
   ]
  },
  {
   "cell_type": "code",
   "execution_count": 48,
   "id": "778da681",
   "metadata": {},
   "outputs": [],
   "source": [
    "def calculate_loss(profile,design_loads,n_predictions=20,penalize_violations=10): \n",
    "    M_Rd_pred, V_Rd_pred, _ = model_forward.get_MV_interaction_prediction(profile,n_predictions=n_predictions)\n",
    "\n",
    "    interaction_curve = np.array([M_Rd_pred, V_Rd_pred]).T\n",
    "\n",
    "    losses, _ = calculate_error(interaction_curve, design_loads)\n",
    "\n",
    "    violations = check_for_violation(interaction_curve, design_loads)\n",
    "    losses[violations] *= penalize_violations\n",
    "\n",
    "    return losses, violations"
   ]
  },
  {
   "cell_type": "markdown",
   "id": "5b397dd9",
   "metadata": {},
   "source": [
    "Define the design parameters, which can change in the optimization."
   ]
  },
  {
   "cell_type": "code",
   "execution_count": 49,
   "id": "a036e623",
   "metadata": {},
   "outputs": [],
   "source": [
    "design_parameters = ['t_stiffc', 'h_wid', 'b_wid', 'd_wid', 't_fwid', 't_wwid', 'Gamma', 'Offset']"
   ]
  },
  {
   "cell_type": "markdown",
   "id": "e05f6752",
   "metadata": {},
   "source": [
    "Define the bounds."
   ]
  },
  {
   "cell_type": "code",
   "execution_count": 50,
   "id": "44112e87",
   "metadata": {},
   "outputs": [],
   "source": [
    "bounds = list(zip(df_full[design_parameters].min().values,\n",
    "          df_full[design_parameters].max().values))"
   ]
  },
  {
   "cell_type": "code",
   "execution_count": 51,
   "id": "6cf9ddae",
   "metadata": {},
   "outputs": [
    {
     "name": "stdout",
     "output_type": "stream",
     "text": [
      "t_stiffc: 1.0\n",
      "h_wid: 0.48000000000000004\n",
      "b_wid: 0.31999999999999995\n",
      "d_wid: 1.0\n",
      "t_fwid: 1.0\n",
      "t_wwid: 0.6666666666666666\n",
      "Gamma: 0.0\n",
      "Offset: 0.37666666666666665\n"
     ]
    }
   ],
   "source": [
    "for i,param in enumerate(design_parameters):\n",
    "    print(f\"{param}: {base_profile[param].values[0] / bounds[i][1]}\")"
   ]
  },
  {
   "cell_type": "markdown",
   "id": "1dc65a79",
   "metadata": {},
   "source": [
    "Define initial guess."
   ]
  },
  {
   "cell_type": "code",
   "execution_count": 52,
   "id": "c485f19e",
   "metadata": {},
   "outputs": [],
   "source": [
    "initial_guess = base_profile[design_parameters].values.flatten()"
   ]
  },
  {
   "cell_type": "markdown",
   "id": "824a5fa2",
   "metadata": {},
   "source": [
    "### Optimization"
   ]
  },
  {
   "cell_type": "markdown",
   "id": "f855c45f",
   "metadata": {},
   "source": [
    "By what factor should loads exceeding the interaction curve be penalized more:"
   ]
  },
  {
   "cell_type": "code",
   "execution_count": 53,
   "id": "dbbd3685",
   "metadata": {},
   "outputs": [],
   "source": [
    "penalize_violations = 10"
   ]
  },
  {
   "cell_type": "markdown",
   "id": "af98bb02",
   "metadata": {},
   "source": [
    "I implement the Powell Optimization Search Algorithm. It is a simple non-gradient based search algorithm."
   ]
  },
  {
   "cell_type": "code",
   "execution_count": 54,
   "id": "c9135278",
   "metadata": {},
   "outputs": [],
   "source": [
    "optimization_history = []\n",
    "\n",
    "# Callback function to record information at each iteration\n",
    "def callback(params):\n",
    "    temp_profile = base_profile.copy()\n",
    "\n",
    "    for i, param in enumerate(design_parameters):\n",
    "        temp_profile.at[temp_profile.index[0], param] = params[i]\n",
    "    \n",
    "    # Calculate individual losses\n",
    "    individual_losses, violations = calculate_loss(temp_profile, design_loads, penalize_violations)\n",
    "    total_loss = np.sum(individual_losses)\n",
    "    \n",
    "    iteration_data = {\n",
    "        'parameters': params.copy(),\n",
    "        'parameter_dict': {param: params[i] for i, param in enumerate(design_parameters)},\n",
    "        'total_loss': total_loss,\n",
    "        'individual_losses': individual_losses.copy() if hasattr(individual_losses, 'copy') else individual_losses,\n",
    "        'violations': violations\n",
    "    }\n",
    "\n",
    "    optimization_history.append(iteration_data)\n",
    "\n",
    "    print(f\"Iteration {len(optimization_history)}: Loss = {total_loss:.6f}\")\n",
    "    \n",
    "    return False  # Return False to continue optimization"
   ]
  },
  {
   "cell_type": "code",
   "execution_count": 55,
   "id": "f4ca7908",
   "metadata": {},
   "outputs": [],
   "source": [
    "def objective(params):\n",
    "    temp_profile = base_profile.copy()\n",
    "    for i, param in enumerate(design_parameters):\n",
    "        temp_profile.at[temp_profile.index[0], param] = params[i]  \n",
    "    \n",
    "    # Get the error of the current profile\n",
    "    losses,_ = calculate_loss(temp_profile,design_loads,penalize_violations)\n",
    "    total_loss = np.sum(losses)\n",
    "    return total_loss"
   ]
  },
  {
   "cell_type": "code",
   "execution_count": 56,
   "id": "d99f974d",
   "metadata": {},
   "outputs": [
    {
     "name": "stdout",
     "output_type": "stream",
     "text": [
      "Iteration 1: Loss = 42.852408\n",
      "Iteration 2: Loss = 62.473927\n",
      "Optimization terminated successfully.\n",
      "         Current function value: 62.473927\n",
      "         Iterations: 2\n",
      "         Function evaluations: 386\n",
      "Optimized parameters: {'t_stiffc': 24.402884919968773, 'h_wid': 469.75416807279066, 'b_wid': 997.3142621272096, 'd_wid': 123.00326437611984, 't_fwid': 21.57829375743821, 't_wwid': 9.709089193018091, 'Gamma': 0.2910528406060013, 'Offset': 104.67517509293839}\n",
      "Best loss: 62.473926534964164\n"
     ]
    }
   ],
   "source": [
    "result = minimize(\n",
    "    objective, \n",
    "    x0=initial_guess, \n",
    "    bounds=bounds, \n",
    "    method='Powell',\n",
    "    callback=callback,\n",
    "    options={\n",
    "        'disp': True,              # Display convergence messages\n",
    "        'maxiter': 500,            # Increased max iterations for more thorough search\n",
    "        'maxfev': 10000,           # Maximum function evaluations\n",
    "        'xtol': 1e-3,              # Relative error in solution acceptable for convergence\n",
    "        'ftol': 1e-3,              # Relative error in function value acceptable for convergence\n",
    "        'direc': None,             # Initial set of direction vectors (None = identity matrix)\n",
    "        'return_all': True,        # Return all iterations (useful for detailed analysis)\n",
    "        'adaptive': True           # Adapt algorithm direction to function characteristics\n",
    "    }\n",
    ")\n",
    "\n",
    "# Extracting the best parameters\n",
    "optimized_params = dict(zip(design_parameters, result.x))\n",
    "best_loss = result.fun\n",
    "\n",
    "print(\"Optimized parameters:\", optimized_params)\n",
    "print(\"Best loss:\", best_loss)"
   ]
  },
  {
   "cell_type": "markdown",
   "id": "1f27ed47",
   "metadata": {},
   "source": [
    "## Solution"
   ]
  },
  {
   "cell_type": "markdown",
   "id": "b7024899",
   "metadata": {},
   "source": [
    "### Extract the reslts from the optimization"
   ]
  },
  {
   "cell_type": "code",
   "execution_count": 57,
   "id": "4bd15482",
   "metadata": {},
   "outputs": [],
   "source": [
    "optimized_profile = base_profile.copy()\n",
    "optimized_profile[design_parameters] = result.x"
   ]
  },
  {
   "cell_type": "code",
   "execution_count": 58,
   "id": "b28bdc58",
   "metadata": {},
   "outputs": [],
   "source": [
    "M_Rd_pred_optim, V_Rd_pred_optim, _ = model_forward.get_MV_interaction_prediction(optimized_profile,n_predictions=n_predictions)\n",
    "M_Rd_pred_base, V_Rd_pred_base, _ = model_forward.get_MV_interaction_prediction(base_profile,n_predictions=n_predictions)\n",
    "\n",
    "interaction_curve_optim = np.array([M_Rd_pred_optim, V_Rd_pred_optim]).T\n",
    "interaction_curve_base = np.array([M_Rd_pred_base, V_Rd_pred_base]).T"
   ]
  },
  {
   "cell_type": "code",
   "execution_count": 59,
   "id": "61db119d",
   "metadata": {},
   "outputs": [],
   "source": [
    "errors_minimized, _ = calculate_error(interaction_curve_optim, design_loads)\n",
    "violations_minimized = check_for_violation(interaction_curve_optim, design_loads)\n",
    "\n",
    "violations = check_for_violation(interaction_curve, design_loads)\n",
    "errors_minimized[violations] *= penalize_violations"
   ]
  },
  {
   "cell_type": "markdown",
   "id": "0a047858",
   "metadata": {},
   "source": [
    "### Plot Results"
   ]
  },
  {
   "cell_type": "code",
   "execution_count": 63,
   "id": "6671af84",
   "metadata": {},
   "outputs": [
    {
     "data": {
      "image/png": "[encoded data removed]",
      "text/plain": [
       "<Figure size 500x500 with 1 Axes>"
      ]
     },
     "metadata": {},
     "output_type": "display_data"
    }
   ],
   "source": [
    "fig, ax = plt.subplots(figsize=(5, 5))\n",
    "\n",
    "plt.plot(interaction_curve_optim[:, 0],\n",
    "          interaction_curve_optim[:, 1],\n",
    "          marker='o',\n",
    "          color=plot_params.morecolors[3],\n",
    "          markeredgecolor=plot_params.morecolors[2],\n",
    "          markerfacecolor=plot_params.morecolors[3],\n",
    "          linestyle='--',\n",
    "          linewidth=1,\n",
    "          zorder=0,\n",
    "          label=\"Optimized Profile\")\n",
    "\n",
    "plt.plot(interaction_curve_base[:, 0],\n",
    "          interaction_curve_base[:, 1],\n",
    "          marker='o',\n",
    "          color=plot_params.morecolors[1],\n",
    "          markeredgecolor=plot_params.morecolors[0],\n",
    "          markerfacecolor=plot_params.morecolors[1],\n",
    "          linestyle='--',\n",
    "          linewidth=1,\n",
    "          zorder=0,\n",
    "          label=\"Base Profile\")\n",
    "\n",
    "for i, load in enumerate(design_loads):\n",
    "    colors = [plot_params.morecolors[5],plot_params.morecolors[4]] if not violations_minimized[i] else [plot_params.morecolors[7],plot_params.morecolors[6]]\n",
    "    plt.scatter(load[0],\n",
    "                load[1],\n",
    "                s=50, \n",
    "                facecolors=colors[0],\n",
    "                edgecolors=colors[1],\n",
    "                label='Design Load' if i == 0 else \"\",\n",
    "                zorder=3)\n",
    "    plt.text(load[0],\n",
    "             load[1], \n",
    "             f\"Error: {errors_minimized[i]:.2f}\", \n",
    "             fontsize=8, ha='right', va='bottom', color='black')\n",
    "\n",
    "plt.grid(True, linestyle='--', alpha=0.5)\n",
    "plt.xlabel(rf\"{plot_params.feature_labels['M_Rd']}\")\n",
    "plt.ylabel(rf\"{plot_params.feature_labels['V_Rd']}\")\n",
    "plt.xlim(0, None)\n",
    "plt.ylim(0, None)\n",
    "plt.legend()\n",
    "plt.show()"
   ]
  },
  {
   "cell_type": "markdown",
   "id": "62851dc2",
   "metadata": {},
   "source": [
    "### Illustrate the interim results"
   ]
  },
  {
   "cell_type": "code",
   "execution_count": 52,
   "id": "cc7e6f01",
   "metadata": {},
   "outputs": [
    {
     "data": {
      "image/png": "[encoded data removed]",
      "text/plain": [
       "<Figure size 800x900 with 6 Axes>"
      ]
     },
     "metadata": {},
     "output_type": "display_data"
    }
   ],
   "source": [
    "plot_every_n = 1\n",
    "iterations = len(optimization_history)\n",
    "counter = 0\n",
    "n_plots = iterations // plot_every_n\n",
    "\n",
    "upper_bounds = np.array(bounds)[:,1]\n",
    "lower_bounds = np.array(bounds)[:,0]\n",
    "\n",
    "fig, axs = plt.subplots(n_plots,2,figsize=(8, 3*n_plots))\n",
    "\n",
    "for i in range(n_plots):\n",
    "\n",
    "    step = i * plot_every_n\n",
    "\n",
    "    params = optimization_history[step]['parameters']\n",
    "    params_dict = optimization_history[step]['parameter_dict']\n",
    "\n",
    "    params_normed = (params - lower_bounds) / (upper_bounds - lower_bounds)\n",
    "\n",
    "    profile_step = base_profile.copy()\n",
    "    profile_step[design_parameters] = params\n",
    "    M_Rd_step, V_Rd_step, _ = model_forward.get_MV_interaction_prediction(profile_step,n_predictions=n_predictions)\n",
    "    interaction_curve_step = np.array([M_Rd_step, V_Rd_step]).T\n",
    "\n",
    "    if i == n_plots - 1:\n",
    "        label='Optimized Profile'\n",
    "    else:\n",
    "        label=None\n",
    "\n",
    "    ax = axs[i,0]\n",
    "    ax.plot(interaction_curve_step[:, 0],\n",
    "          interaction_curve_step[:, 1],\n",
    "          marker='o',\n",
    "          markeredgecolor=plot_params.morecolors[0],\n",
    "          markerfacecolor=plot_params.morecolors[1],\n",
    "          linestyle='--',\n",
    "          linewidth=1,\n",
    "          zorder=0,\n",
    "          label=label)\n",
    "    \n",
    "    for j, load in enumerate(design_loads):\n",
    "        if j == 0:\n",
    "            label='Design Loads'\n",
    "        else:\n",
    "            label=None\n",
    "        colors = [plot_params.morecolors[5],plot_params.morecolors[4]] if not optimization_history[step]['violations'][j] else [plot_params.morecolors[7],plot_params.morecolors[6]]\n",
    "        ax.scatter(load[0],\n",
    "                    load[1],\n",
    "                    s=50,\n",
    "                    facecolors=colors[0],\n",
    "                    edgecolors=colors[1],\n",
    "                    label=label,\n",
    "                    zorder=3)\n",
    "    \n",
    "    ax.set_xticks([])\n",
    "    ax.set_yticks([])\n",
    "    ax.set_title(f\"Loss: {optimization_history[step]['total_loss']:.2f}\")\n",
    "    \n",
    "    ax = axs[i,1]\n",
    "    ax.bar(np.arange(len(params_normed)),\n",
    "           params_normed,\n",
    "           color=plot_params.morecolors[1],\n",
    "           edgecolor=plot_params.morecolors[0],\n",
    "           alpha=0.7)\n",
    "    params_base_normed = (base_profile[design_parameters].values.flatten() - lower_bounds) / (upper_bounds - lower_bounds)\n",
    "    ax.bar(np.arange(len(params_base_normed)),\n",
    "           params_base_normed,\n",
    "           facecolor='white',\n",
    "           edgecolor=plot_params.morecolors[2],\n",
    "           alpha=0.5)\n",
    "    \n",
    "    ax.set_xticks(np.arange(len(params_normed)),list(params_dict.keys()), rotation=90)\n",
    "\n",
    "ax = axs[-1,0]\n",
    "ax.plot(interaction_curve_base[:, 0],\n",
    "          interaction_curve_base[:, 1],\n",
    "          marker='o',\n",
    "          markeredgecolor=plot_params.morecolors[2],\n",
    "          markerfacecolor=plot_params.morecolors[3],\n",
    "          linestyle='--',\n",
    "          linewidth=1,\n",
    "          zorder=0,\n",
    "          label=\"Base Profile\")\n",
    "\n",
    "\n",
    "ax.legend()\n",
    "plt.tight_layout()\n",
    "plt.show()\n"
   ]
  },
  {
   "cell_type": "markdown",
   "id": "cb20e7b5",
   "metadata": {},
   "source": [
    "## Interactive \n",
    "\n",
    "Check seperate file Design_Optimization_Interactive.ipynb for better implementation."
   ]
  },
  {
   "cell_type": "code",
   "execution_count": 55,
   "id": "e522e7f4",
   "metadata": {},
   "outputs": [],
   "source": [
    "import ipywidgets as widgets\n",
    "from IPython.display import display, clear_output"
   ]
  },
  {
   "cell_type": "code",
   "execution_count": 56,
   "id": "10d2ad8c",
   "metadata": {},
   "outputs": [],
   "source": [
    "design_parameters_range = {param: [0, bounds[i][0], bounds[i][1]] for i, param in enumerate(design_parameters)}"
   ]
  },
  {
   "cell_type": "code",
   "execution_count": null,
   "id": "9f89ad92",
   "metadata": {},
   "outputs": [
    {
     "data": {
      "application/vnd.jupyter.widget-view+json": {
       "model_id": "6a02b0a3e325409b8280d2a80da3b519",
       "version_major": 2,
       "version_minor": 0
      },
      "text/plain": [
       "VBox(children=(VBox(children=(HTML(value='<h3>Design Parameters</h3>'), FloatSlider(value=0.0, continuous_upda…"
      ]
     },
     "metadata": {},
     "output_type": "display_data"
    }
   ],
   "source": [
    "class OptimizationApp:\n",
    "    def __init__(self, design_parameters_range, dataframe, model):\n",
    "        self.model = model\n",
    "        self.bounds = np.array(list(design_parameters_range.values()))[:,1:3]\n",
    "        self.design_parameters = list(design_parameters_range.keys())\n",
    "        self.df = dataframe\n",
    "        self.design_parameters_range = design_parameters_range\n",
    "        self.load_count = 1\n",
    "        self.create_widgets()\n",
    "        self.create_layout()\n",
    "\n",
    "    def create_widgets(self):\n",
    "        # Create sliders for each design parameter\n",
    "        self.sliders = {}\n",
    "        for param, value_range in self.design_parameters_range.items():\n",
    "            min_val, default_val, max_val = value_range\n",
    "            self.sliders[param] = widgets.FloatSlider(\n",
    "                value=default_val,\n",
    "                min=min_val,\n",
    "                max=max_val,\n",
    "                step=(max_val - min_val) / 50,\n",
    "                description=param,\n",
    "                disabled=False,\n",
    "                continuous_update=False,\n",
    "                orientation='horizontal',\n",
    "                readout=True,\n",
    "                layout=widgets.Layout(width='400px')\n",
    "            )\n",
    "        \n",
    "        # Create dropdown for element selection\n",
    "        self.element_dropdown = widgets.Dropdown(\n",
    "            options=[(f\"{row['Profile_x']} - {row['Profile_y']} (Mpl={row['Mpl_y']},Vpl={row['Vpl_y']})\", i) for i, row in self.df.iterrows()],\n",
    "            description='Element:',\n",
    "            disabled=False,\n",
    "            layout=widgets.Layout(width='300px')\n",
    "        )\n",
    "        \n",
    "        # Create load input widgets\n",
    "        self.load_container = widgets.VBox([])\n",
    "        self.update_load_inputs()\n",
    "        \n",
    "        # Buttons for load management\n",
    "        self.add_load_btn = widgets.Button(\n",
    "            description='Add Load',\n",
    "            disabled=False,\n",
    "            button_style='info',\n",
    "            tooltip='Add another load',\n",
    "            icon='plus'\n",
    "        )\n",
    "        self.add_load_btn.on_click(self.add_load)\n",
    "        \n",
    "        self.remove_load_btn = widgets.Button(\n",
    "            description='Remove Load',\n",
    "            disabled=False,\n",
    "            button_style='warning',\n",
    "            tooltip='Remove a load',\n",
    "            icon='minus'\n",
    "        )\n",
    "        self.remove_load_btn.on_click(self.remove_load)\n",
    "        \n",
    "        # Calculate button\n",
    "        self.calculate_btn = widgets.Button(\n",
    "            description='Calculate & Plot',\n",
    "            disabled=False,\n",
    "            button_style='success',\n",
    "            tooltip='Run calculation and plot results',\n",
    "            icon='check'\n",
    "        )\n",
    "        self.calculate_btn.on_click(self.run_calculation)\n",
    "        \n",
    "        # Output area\n",
    "        self.output = widgets.Output()\n",
    "\n",
    "    def update_load_inputs(self):\n",
    "        load_widgets = []\n",
    "        \n",
    "        for i in range(self.load_count):\n",
    "            load_header = widgets.HTML(value=f\"<b>Load {i+1}</b>\")\n",
    "            \n",
    "            moment_input = widgets.FloatText(\n",
    "                value=0.0,\n",
    "                description='Moment (kNm):',\n",
    "                disabled=False,\n",
    "                layout=widgets.Layout(width='250px')\n",
    "            )\n",
    "            \n",
    "            shear_input = widgets.FloatText(\n",
    "                value=0.0,\n",
    "                description='Shear (kN):',\n",
    "                disabled=False,\n",
    "                layout=widgets.Layout(width='250px')\n",
    "            )\n",
    "            \n",
    "            load_box = widgets.VBox([load_header, widgets.HBox([moment_input, shear_input])])\n",
    "            load_widgets.append(load_box)\n",
    "        \n",
    "        self.loads = load_widgets\n",
    "        self.load_container.children = load_widgets\n",
    "    \n",
    "    def add_load(self, b):\n",
    "        if self.load_count < 5:\n",
    "            self.load_count += 1\n",
    "            self.update_load_inputs()\n",
    "    \n",
    "    def remove_load(self, b):\n",
    "        if self.load_count > 1:\n",
    "            self.load_count -= 1\n",
    "            self.update_load_inputs()\n",
    "    \n",
    "    def create_layout(self):\n",
    "        # Parameter section\n",
    "        param_section = widgets.VBox([widgets.HTML(value=\"<h3>Design Parameters</h3>\")] + \n",
    "                                     list(self.sliders.values()))\n",
    "        \n",
    "        # Element selection section\n",
    "        element_section = widgets.VBox([widgets.HTML(value=\"<h3>Element Selection</h3>\"), \n",
    "                                       self.element_dropdown])\n",
    "        \n",
    "        # Load section\n",
    "        load_buttons = widgets.HBox([self.add_load_btn, self.remove_load_btn])\n",
    "        load_section = widgets.VBox([widgets.HTML(value=\"<h3>Applied Loads</h3>\"), \n",
    "                                    self.load_container, \n",
    "                                    load_buttons])\n",
    "        \n",
    "        # Action section\n",
    "        action_section = widgets.VBox([self.calculate_btn, self.output])\n",
    "        \n",
    "        # Main layout\n",
    "        self.main_layout = widgets.VBox([\n",
    "            param_section, \n",
    "            widgets.HTML(value=\"<hr>\"),\n",
    "            element_section, \n",
    "            widgets.HTML(value=\"<hr>\"),\n",
    "            load_section,\n",
    "            widgets.HTML(value=\"<hr>\"),\n",
    "            action_section\n",
    "        ])\n",
    "\n",
    "    def get_properties(self):\n",
    "        # Get selected element data\n",
    "        idx = self.element_dropdown.value\n",
    "        id = np.where(np.array(list(self.df.index))==idx)[0][0]\n",
    "        base_profile = self.df.iloc[id:id+1]\n",
    "        \n",
    "        # Get current design parameters\n",
    "        params = {param: slider.value for param, slider in self.sliders.items()}\n",
    "        base_profile[self.design_parameters] = list(params.values())\n",
    "        \n",
    "        # Get load data\n",
    "        loads = []\n",
    "        for i, load_box in enumerate(self.loads):\n",
    "            moment = load_box.children[1].children[0].value\n",
    "            shear = load_box.children[1].children[1].value\n",
    "            loads.append([moment, shear])\n",
    "\n",
    "        loads = np.array(loads)\n",
    "\n",
    "        return {\n",
    "            'base_profile': base_profile,\n",
    "            'params': params,\n",
    "            'loads': loads\n",
    "        }\n",
    "    \n",
    "    def run_calculation(self, b):\n",
    "        with self.output:\n",
    "            clear_output(wait=True)\n",
    "            \n",
    "            # Get the current configuration\n",
    "            properties = self.get_properties()\n",
    "            \n",
    "            # Print summary\n",
    "            print(f\"Selected Element: {properties['base_profile']['Profile_x']} ({properties['base_profile']['Profile_y']})\")\n",
    "            print(\"\\nDesign Parameters:\")\n",
    "            for param, value in properties['params'].items():\n",
    "                print(f\"  - {param}: {value}\")\n",
    "                \n",
    "            print(\"\\nApplied Loads:\")\n",
    "            for i, load in enumerate(properties['loads']):\n",
    "                print(f\"  Load {i+1}:\")\n",
    "                print(f\"    - Moment: {load[0]:.2f} kNm\")\n",
    "                print(f\"    - Shear: {load[1]:.2f} kN\")\n",
    "            \n",
    "            #M_Rd_pred, V_Rd_pred, _ = self.model.get_MV_interaction_prediction(properties['base_profile'],n_predictions=n_predictions)\n",
    "            #interaction_curve = np.array([M_Rd_pred, V_Rd_pred]).T\n",
    "\n",
    "            base_profile = properties['base_profile'].copy()\n",
    "            initial_guess = properties['base_profile'][self.design_parameters].values.flatten()\n",
    "\n",
    "            self.design_loads = properties['loads']\n",
    "            self.penalize_violations = 10\n",
    "\n",
    "            results = self.optimize(base_profile,initial_guess)\n",
    "\n",
    "            # Plot results\n",
    "            self.plot_results(results)\n",
    "\n",
    "    def objective(self,params):\n",
    "        temp_profile = base_profile.copy()\n",
    "        # Convert parameters to proper types if needed by the DataFrame\n",
    "        for i, param in enumerate(design_parameters):\n",
    "            temp_profile.at[temp_profile.index[0], param] = params[i]  # Fixed assignment to DataFrame\n",
    "        \n",
    "        losses,_ = calculate_loss(temp_profile,self.design_loads,self.penalize_violations)\n",
    "        total_loss = np.sum(losses)\n",
    "        return total_loss\n",
    "\n",
    "    def optimize(self, base_profile, initial_guess):\n",
    "\n",
    "        # Run the optimization\n",
    "        result = minimize(\n",
    "            self.objective, \n",
    "            x0=initial_guess, \n",
    "            bounds=self.bounds, \n",
    "            method='Powell',\n",
    "            #callback=callback,\n",
    "            options={\n",
    "                'disp': False,             # Display convergence messages\n",
    "                'maxiter': 500,            # Increased max iterations for more thorough search\n",
    "                'maxfev': 10000,           # Maximum function evaluations\n",
    "                'xtol': 1e-3,              # Relative error in solution acceptable for convergence\n",
    "                'ftol': 1e-3,              # Relative error in function value acceptable for convergence\n",
    "                'direc': None,             # Initial set of direction vectors (None = identity matrix)\n",
    "                'return_all': True,        # Return all iterations (useful for detailed analysis)\n",
    "                'adaptive': True           # Adapt algorithm direction to function characteristics\n",
    "            }\n",
    "        )\n",
    "\n",
    "        # Extracting the best parameters\n",
    "        optimized_params = dict(zip(design_parameters, result.x))\n",
    "        best_loss = result.fun\n",
    "\n",
    "        optimized_profile = base_profile.copy()\n",
    "        optimized_profile[design_parameters] = result.x\n",
    "\n",
    "        print(\"Optimized parameters:\", optimized_params)\n",
    "        print(\"Best loss:\", best_loss)\n",
    "\n",
    "        M_Rd_pred_optim, V_Rd_pred_optim, _ = model_forward.get_MV_interaction_prediction(optimized_profile,n_predictions=n_predictions)\n",
    "        M_Rd_pred_base, V_Rd_pred_base, _ = model_forward.get_MV_interaction_prediction(base_profile,n_predictions=n_predictions)\n",
    "\n",
    "        interaction_curve_optim = np.array([M_Rd_pred_optim, V_Rd_pred_optim]).T\n",
    "        interaction_curve_base = np.array([M_Rd_pred_base, V_Rd_pred_base]).T\n",
    "\n",
    "        errors_minimized, _ = calculate_error(interaction_curve_optim, design_loads)\n",
    "        violations_minimized = check_for_violation(interaction_curve_optim, design_loads)\n",
    "\n",
    "        violations = check_for_violation(interaction_curve, design_loads)\n",
    "        errors_minimized[violations] *= penalize_violations\n",
    "    \n",
    "        return {'errors_minimized': errors_minimized, \n",
    "                'violations_minimized': violations_minimized, \n",
    "                'interaction_curve_optim': interaction_curve_optim, \n",
    "                'interaction_curve_base': interaction_curve_base}\n",
    "    \n",
    "    def plot_results(self, results):\n",
    "\n",
    "        errors_minimized = results['errors_minimized']\n",
    "        violations_minimized = results['violations_minimized']\n",
    "        interaction_curve_optim = results['interaction_curve_optim']\n",
    "        interaction_curve_base = results['interaction_curve_base']\n",
    "\n",
    "        fig, ax = plt.subplots(figsize=(5, 5))\n",
    "\n",
    "        plt.plot(interaction_curve_optim[:, 0],\n",
    "                interaction_curve_optim[:, 1],\n",
    "                marker='o',\n",
    "                markeredgecolor=plot_params.morecolors[0],\n",
    "                markerfacecolor=plot_params.morecolors[1],\n",
    "                linestyle='--',\n",
    "                linewidth=1,\n",
    "                zorder=0,\n",
    "                label=\"Optimized Profile\")\n",
    "\n",
    "        plt.plot(interaction_curve_base[:, 0],\n",
    "                interaction_curve_base[:, 1],\n",
    "                marker='o',\n",
    "                markeredgecolor=plot_params.morecolors[2],\n",
    "                markerfacecolor=plot_params.morecolors[3],\n",
    "                linestyle='--',\n",
    "                linewidth=1,\n",
    "                zorder=0,\n",
    "                label=\"Base Profile\")\n",
    "\n",
    "        for i, load in enumerate(self.design_loads):\n",
    "            colors = [plot_params.morecolors[5],plot_params.morecolors[4]] if not violations_minimized[i] else [plot_params.morecolors[7],plot_params.morecolors[6]]\n",
    "            plt.scatter(load[0],\n",
    "                        load[1],\n",
    "                        s=50, \n",
    "                        facecolors=colors[0],\n",
    "                        edgecolors=colors[1],\n",
    "                        zorder=3)\n",
    "            plt.text(load[0],\n",
    "                    load[1], \n",
    "                    f\"Error: {errors_minimized[i]:.2f}\", \n",
    "                    fontsize=8, ha='right', va='bottom', color='black')\n",
    "\n",
    "        plt.grid(True, linestyle='--', alpha=0.5)\n",
    "        plt.legend()\n",
    "        plt.show()\n",
    "    \n",
    "    def display(self):\n",
    "        display(self.main_layout)\n",
    "\n",
    "# Create and display the application\n",
    "app = OptimizationApp(design_parameters_range, df_full.sample(100), model_forward)\n",
    "app.display()"
   ]
  },
  {
   "cell_type": "code",
   "execution_count": null,
   "id": "613f4a9d",
   "metadata": {},
   "outputs": [],
   "source": []
  }
 ],
 "metadata": {
  "kernelspec": {
   "display_name": "General",
   "language": "python",
   "name": "python3"
  },
  "language_info": {
   "codemirror_mode": {
    "name": "ipython",
    "version": 3
   },
   "file_extension": ".py",
   "mimetype": "text/x-python",
   "name": "python",
   "nbconvert_exporter": "python",
   "pygments_lexer": "ipython3",
   "version": "3.11.9"
  }
 },
 "nbformat": 4,
 "nbformat_minor": 5
}
